{
 "cells": [
  {
   "cell_type": "markdown",
   "metadata": {},
   "source": [
    "# Predicting Survivors of the Titanic \n",
    "\n",
    "This notebook looks into one of the most popular online Kaggle competition projects in building a machine learning model to predict if a passenger on the titanic would survive! \n",
    "\n",
    "For this project we're going to take my personal approach to solving ML problems: \n",
    "\n",
    " 1. Problem Definition \n",
    " 2. Data \n",
    " 3. Evaluation (Metrics)\n",
    " 4. Features \n",
    " 5. Modelling \n",
    " 6. Iterative Experimentation \n",
    " 8. Presenting Analysis\n",
    " \n",
    "# 1. Problem Definition\n",
    "In a statement, \n",
    "> Given passenger information aboard the titanic, can we predict who will survive the shipwreck?\n",
    "\n",
    "# 2. Data \n",
    "\n",
    "The data can be found at kaggle on the following link: [Titanic Data](https://www.kaggle.com/c/titanic/data)\n",
    "\n",
    "The data is split into two separate files: \n",
    " 1. train.csv (What we build the model on) \n",
    " 2. test.csv (What we test our model on) \n",
    " \n",
    "Since this is a competition on Kaggle - we will be submitting a **submissions.csv** to Kaggle - this essentially have passenger id's from the test.csv document along with a column indicating from our model if they survived or not.\n",
    "\n",
    "# 3. Evaluation \n",
    "\n",
    "Our Goal is the following: \n",
    "\n",
    ">Predict if a passenger survived the sinking of the Titanic or not. For each passenger in the test set, we must predict a 0 or 1 value if they did or did not survive. \n",
    "\n",
    "Evaluation Metric for our model is: \n",
    ">**Accuracy**\n",
    "\n",
    "Formally:\n",
    "> Accuracy is the fraction of predictions our model got right. \n",
    "\n",
    "Mathematically: \n",
    "\n",
    "$Accuracy = \\frac{\\text{Number of Correct Predictions}}{\\text{Total Number of Predictions}}$\n",
    "\n",
    "For our problem:\n",
    "> The accuracy score is the percentage of passengers you correctly predict to survive the shipwreck."
   ]
  },
  {
   "cell_type": "code",
   "execution_count": null,
   "metadata": {},
   "outputs": [],
   "source": []
  }
 ],
 "metadata": {
  "kernelspec": {
   "display_name": "Python 3",
   "language": "python",
   "name": "python3"
  },
  "language_info": {
   "codemirror_mode": {
    "name": "ipython",
    "version": 3
   },
   "file_extension": ".py",
   "mimetype": "text/x-python",
   "name": "python",
   "nbconvert_exporter": "python",
   "pygments_lexer": "ipython3",
   "version": "3.8.5"
  }
 },
 "nbformat": 4,
 "nbformat_minor": 4
}
